{
 "cells": [
  {
   "cell_type": "code",
   "execution_count": null,
   "id": "2712af6a-89c0-4c3e-9286-5c7a6d053a99",
   "metadata": {},
   "outputs": [
    {
     "name": "stdout",
     "output_type": "stream",
     "text": [
      "Hello Pravin how can i help you today (type 'exit' to quit)\n",
      "\n"
     ]
    },
    {
     "name": "stdin",
     "output_type": "stream",
     "text": [
      "You:  hi\n"
     ]
    },
    {
     "name": "stderr",
     "output_type": "stream",
     "text": [
      "INFO:root:Intent prediction: greeting (0.50)\n"
     ]
    },
    {
     "name": "stdout",
     "output_type": "stream",
     "text": [
      "Bot: Hello!\n"
     ]
    },
    {
     "name": "stdin",
     "output_type": "stream",
     "text": [
      "You:  how can you help me\n"
     ]
    },
    {
     "name": "stderr",
     "output_type": "stream",
     "text": [
      "INFO:root:Intent prediction: about (0.30)\n"
     ]
    },
    {
     "name": "stdout",
     "output_type": "stream",
     "text": [
      "Bot: I'm VastChatbot! I can tell jokes, report weather, give time by city, remember your name/city, and assist with general questions. Try asking me anything!\n"
     ]
    },
    {
     "name": "stdin",
     "output_type": "stream",
     "text": [
      "You:  tell me joke\n"
     ]
    },
    {
     "name": "stderr",
     "output_type": "stream",
     "text": [
      "INFO:root:Intent prediction: joke (0.23)\n"
     ]
    },
    {
     "name": "stdout",
     "output_type": "stream",
     "text": [
      "Bot: Why did the fireman wear red, white, and blue suspenders? ... To hold his pants up.\n"
     ]
    },
    {
     "name": "stdin",
     "output_type": "stream",
     "text": [
      "You:  weather\n"
     ]
    },
    {
     "name": "stderr",
     "output_type": "stream",
     "text": [
      "INFO:root:Intent prediction: weather (0.42)\n"
     ]
    },
    {
     "name": "stdout",
     "output_type": "stream",
     "text": [
      "Bot: The weather in Jalna is broken clouds with 28.08°C.\n"
     ]
    },
    {
     "name": "stdin",
     "output_type": "stream",
     "text": [
      "You:  weather in mukhed\n"
     ]
    },
    {
     "name": "stderr",
     "output_type": "stream",
     "text": [
      "INFO:root:Intent prediction: weather (0.41)\n"
     ]
    },
    {
     "name": "stdout",
     "output_type": "stream",
     "text": [
      "Bot: The weather in Mukhed is broken clouds with 28.14°C.\n"
     ]
    },
    {
     "name": "stdin",
     "output_type": "stream",
     "text": [
      "You:  weather in chhatrapati sambhajinagar\n"
     ]
    },
    {
     "name": "stderr",
     "output_type": "stream",
     "text": [
      "INFO:root:Intent prediction: weather (0.41)\n"
     ]
    },
    {
     "name": "stdout",
     "output_type": "stream",
     "text": [
      "Bot: Couldn't find weather for 'chhatrapati sambhajinagar'.\n"
     ]
    },
    {
     "name": "stdin",
     "output_type": "stream",
     "text": [
      "You:  weather in aurangabad\n"
     ]
    },
    {
     "name": "stderr",
     "output_type": "stream",
     "text": [
      "INFO:root:Intent prediction: weather (0.41)\n"
     ]
    },
    {
     "name": "stdout",
     "output_type": "stream",
     "text": [
      "Bot: The weather in Aurangabad is overcast clouds with 26.89°C.\n"
     ]
    }
   ],
   "source": [
    "import random\n",
    "import requests\n",
    "import re\n",
    "import logging\n",
    "from datetime import datetime\n",
    "from sklearn.feature_extraction.text import TfidfVectorizer\n",
    "from sklearn.linear_model import LogisticRegression\n",
    "import pytz\n",
    "from geopy.geocoders import Nominatim\n",
    "from timezonefinder import TimezoneFinder\n",
    "\n",
    "\n",
    "try:\n",
    "    import spacy\n",
    "    nlp = spacy.load(\"en_core_web_sm\")\n",
    "except:\n",
    "    nlp = None\n",
    "\n",
    "logging.basicConfig(level=logging.INFO)\n",
    "\n",
    "class VastChatbot:\n",
    "    def __init__(self):\n",
    "        self.training_data = {\n",
    "            \"greeting\": [\n",
    "                \"hi\", \"hello\", \"hey\", \"good morning\", \"good evening\",\n",
    "                \"yo\", \"hiya\", \"sup\", \"what's up\", \"heya\", \"hi there\", \"hello there\"\n",
    "            ],\n",
    "            \"goodbye\": [\"bye\", \"goodbye\", \"see you\", \"farewell\"],\n",
    "            \"thanks\": [\"thanks\", \"thank you\", \"appreciate it\"],\n",
    "            \"weather\": [\n",
    "                \"what's the weather\", \"weather forecast\", \"is it raining\",\n",
    "                \"temperature outside\", \"weather in\", \"how's the weather in London\"\n",
    "            ],\n",
    "            \"joke\": [\"tell me a joke\", \"make me laugh\", \"joke please\"],\n",
    "            \"time\": [\n",
    "                \"what time is it\", \"current time\", \"time now\",\n",
    "                \"time in\", \"what time is it in Tokyo\"\n",
    "            ],\n",
    "            \"help\": [\"help\", \"commands\", \"how to use\"],\n",
    "            \"about\": [\n",
    "                \"how can you help me\", \"who are you\", \"what can you do\",\n",
    "                \"tell me about yourself\", \"your features\"\n",
    "            ],\n",
    "            \"unknown\": [\"blargh\", \"random words\", \"nothing to say\"]\n",
    "        }\n",
    "\n",
    "        self.vectorizer = TfidfVectorizer()\n",
    "        self.model = LogisticRegression()\n",
    "        sentences, labels = [], []\n",
    "        for intent, examples in self.training_data.items():\n",
    "            sentences.extend(examples)\n",
    "            labels.extend([intent] * len(examples))\n",
    "        X = self.vectorizer.fit_transform(sentences)\n",
    "        self.model.fit(X, labels)\n",
    "\n",
    "        self.weather_api_key = \"YOUR WEATHER API KEY f\"\n",
    "        self.user_memory = {\"name\": None, \"city\": None}\n",
    "\n",
    "    def predict_intent(self, user_input):\n",
    "        X_test = self.vectorizer.transform([user_input])\n",
    "        probs = self.model.predict_proba(X_test)[0]\n",
    "        max_prob = max(probs)\n",
    "        intent = self.model.classes_[probs.argmax()]\n",
    "        logging.info(f\"Intent prediction: {intent} ({max_prob:.2f})\")\n",
    "        return intent if max_prob > 0.2 else \"unknown\"\n",
    "\n",
    "    def extract_city(self, text):\n",
    "        if nlp:\n",
    "            doc = nlp(text)\n",
    "            for ent in doc.ents:\n",
    "                if ent.label_ == \"GPE\":\n",
    "                    return ent.text\n",
    "\n",
    "        patterns = [\n",
    "            r\"weather in ([a-zA-Z\\s]+)\",\n",
    "            r\"time in ([a-zA-Z\\s]+)\",\n",
    "            r\"current time in ([a-zA-Z\\s]+)\",\n",
    "            r\"in ([a-zA-Z\\s]+) time\"\n",
    "        ]\n",
    "        for pattern in patterns:\n",
    "            match = re.search(pattern, text)\n",
    "            if match:\n",
    "                return match.group(1).strip()\n",
    "        return None\n",
    "\n",
    "    def get_response(self, intent, user_input):\n",
    "        # Memory input recognition\n",
    "        name_match = re.search(r\"my name is ([a-zA-Z\\s]+)\", user_input.lower())\n",
    "        if name_match:\n",
    "            self.user_memory[\"name\"] = name_match.group(1).title().strip()\n",
    "            return f\"Nice to meet you, {self.user_memory['name']}!\"\n",
    "\n",
    "        city_match = re.search(r\"i live in ([a-zA-Z\\s]+)\", user_input.lower())\n",
    "        if city_match:\n",
    "            self.user_memory[\"city\"] = city_match.group(1).title().strip()\n",
    "            return f\"Got it! I'll remember that you're from {self.user_memory['city']}.\"\n",
    "\n",
    "        if intent == \"greeting\":\n",
    "            name = self.user_memory.get(\"name\")\n",
    "            return f\"Hello {name}!\" if name else random.choice([\"Hello!\", \"Hi there!\", \"Hey!\"])\n",
    "        elif intent == \"goodbye\":\n",
    "            return random.choice([\"Goodbye!\", \"See you later!\", \"Take care!\"])\n",
    "        elif intent == \"thanks\":\n",
    "            return random.choice([\"You're welcome!\", \"No problem!\"])\n",
    "        elif intent == \"joke\":\n",
    "            return self.fetch_joke()\n",
    "        elif intent == \"weather\":\n",
    "            city = self.extract_city(user_input.lower()) or self.user_memory.get(\"city\") or \"Jalna\"\n",
    "            return self.fetch_weather(city)\n",
    "        elif intent == \"time\":\n",
    "            city = self.extract_city(user_input.lower()) or self.user_memory.get(\"city\")\n",
    "            return self.get_time(city)\n",
    "        elif intent == \"help\":\n",
    "            return (\n",
    "                \"I can help you with:\\n\"\n",
    "                \"- Weather info (e.g., 'weather in Paris')\\n\"\n",
    "                \"- Jokes\\n\"\n",
    "                \"- Current time (e.g., 'time in Tokyo')\\n\"\n",
    "                \"- I can also remember your name or city!\"\n",
    "            )\n",
    "        elif intent == \"about\":\n",
    "            return (\n",
    "                \"I'm VastChatbot! I can tell jokes, report weather, give time by city, \"\n",
    "                \"remember your name/city, and assist with general questions. Try asking me anything!\"\n",
    "            )\n",
    "        else:\n",
    "            return \"Sorry, I didn’t understand that.\"\n",
    "\n",
    "    def get_time(self, city):\n",
    "        try:\n",
    "            if city:\n",
    "                city = city.lower().strip()\n",
    "                city_timezones = {\n",
    "                    \"mumbai\": \"Asia/Kolkata\",\n",
    "                    \"delhi\": \"Asia/Kolkata\",\n",
    "                    \"kolkata\": \"Asia/Kolkata\",\n",
    "                    \"pune\": \"Asia/Kolkata\",\n",
    "                    \"tokyo\": \"Asia/Tokyo\",\n",
    "                    \"new york\": \"America/New_York\",\n",
    "                    \"london\": \"Europe/London\",\n",
    "                    \"paris\": \"Europe/Paris\",\n",
    "                    \"berlin\": \"Europe/Berlin\",\n",
    "                    \"los angeles\": \"America/Los_Angeles\",\n",
    "                    \"sydney\": \"Australia/Sydney\",\n",
    "                    \"dubai\": \"Asia/Dubai\",\n",
    "                    \"singapore\": \"Asia/Singapore\",\n",
    "                    \"chicago\": \"America/Chicago\",\n",
    "                    \"toronto\": \"America/Toronto\",\n",
    "                    \"moscow\": \"Europe/Moscow\"\n",
    "                }\n",
    "\n",
    "                timezone_str = city_timezones.get(city)\n",
    "                if timezone_str:\n",
    "                    now = datetime.now(pytz.timezone(timezone_str)).strftime(\"%H:%M:%S\")\n",
    "                    return f\"The current time in {city.title()} is {now} ({timezone_str}).\"\n",
    "                else:\n",
    "                    #  Use timezonefinder \n",
    "                    geolocator = Nominatim(user_agent=\"vast_chatbot\")\n",
    "                    location = geolocator.geocode(city)\n",
    "                    if location:\n",
    "                        tf = TimezoneFinder()\n",
    "                        tz_name = tf.timezone_at(lat=location.latitude, lng=location.longitude)\n",
    "                        if tz_name:\n",
    "                            now = datetime.now(pytz.timezone(tz_name)).strftime(\"%H:%M:%S\")\n",
    "                            return f\"The current time in {city.title()} is {now} ({tz_name}).\"\n",
    "                    return f\"Sorry, I don’t know the timezone for {city.title()}.\"\n",
    "            else:\n",
    "                now = datetime.utcnow().strftime(\"%H:%M:%S\")\n",
    "                return f\"The current time is {now} UTC.\"\n",
    "        except Exception as e:\n",
    "            logging.error(f\"Time lookup failed: {e}\")\n",
    "            return \"Sorry, I couldn't get the time for that city.\"\n",
    "\n",
    "    def fetch_joke(self):\n",
    "        try:\n",
    "            response = requests.get(\"https://official-joke-api.appspot.com/random_joke\")\n",
    "            data = response.json()\n",
    "            return f\"{data['setup']} ... {data['punchline']}\"\n",
    "        except Exception:\n",
    "            return \"Why don’t skeletons fight each other? They don’t have the guts.\"\n",
    "\n",
    "    def fetch_weather(self, city):\n",
    "        if not self.weather_api_key:\n",
    "            return \"Weather API key not set.\"\n",
    "        try:\n",
    "            url = (\n",
    "                f\"http://api.openweathermap.org/data/2.5/weather?q={city}\"\n",
    "                f\"&appid={self.weather_api_key}&units=metric\"\n",
    "            )\n",
    "            response = requests.get(url)\n",
    "            data = response.json()\n",
    "            if data.get(\"cod\") != 200:\n",
    "                return f\"Couldn't find weather for '{city}'.\"\n",
    "            temp = data['main']['temp']\n",
    "            desc = data['weather'][0]['description']\n",
    "            return f\"The weather in {city.title()} is {desc} with {temp}°C.\"\n",
    "        except Exception:\n",
    "            return \"Failed to fetch weather data.\"\n",
    "\n",
    "if __name__ == \"__main__\":\n",
    "    bot = VastChatbot()\n",
    "    print(\"Hello Pravin how can i help you today (type 'exit' to quit)\\n\")\n",
    "    while True:\n",
    "        user_input = input(\"You: \")\n",
    "        if user_input.lower() in [\"exit\", \"quit\"]:\n",
    "            print(\"Bot: Goodbye!\")\n",
    "            break\n",
    "        intent = bot.predict_intent(user_input)\n",
    "        response = bot.get_response(intent, user_input)\n",
    "        print(\"Bot:\", response)\n"
   ]
  },
  {
   "cell_type": "code",
   "execution_count": null,
   "id": "9f549c00-b23f-449f-a444-877de1a0a4fd",
   "metadata": {},
   "outputs": [],
   "source": []
  },
  {
   "cell_type": "code",
   "execution_count": null,
   "id": "9feeccfa-aeb4-4d66-b0d0-699b9b100221",
   "metadata": {},
   "outputs": [],
   "source": []
  }
 ],
 "metadata": {
  "kernelspec": {
   "display_name": "Python 3 (ipykernel)",
   "language": "python",
   "name": "python3"
  },
  "language_info": {
   "codemirror_mode": {
    "name": "ipython",
    "version": 3
   },
   "file_extension": ".py",
   "mimetype": "text/x-python",
   "name": "python",
   "nbconvert_exporter": "python",
   "pygments_lexer": "ipython3",
   "version": "3.13.5"
  }
 },
 "nbformat": 4,
 "nbformat_minor": 5
}
